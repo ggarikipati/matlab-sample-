{
  "nbformat": 4,
  "nbformat_minor": 0,
  "metadata": {
    "colab": {
      "provenance": []
    },
    "kernelspec": {
      "name": "python3",
      "display_name": "Python 3"
    },
    "language_info": {
      "name": "python"
    }
  },
  "cells": [
    {
      "cell_type": "code",
      "execution_count": 8,
      "metadata": {
        "colab": {
          "base_uri": "https://localhost:8080/"
        },
        "id": "R46FIIclJfPh",
        "outputId": "cc857659-b4f1-48c6-d1f5-544d50092a36"
      },
      "outputs": [
        {
          "output_type": "stream",
          "name": "stderr",
          "text": [
            "2024-11-19 02:27:01.756 Thread 'MainThread': missing ScriptRunContext! This warning can be ignored when running in bare mode.\n",
            "2024-11-19 02:27:01.759 Thread 'MainThread': missing ScriptRunContext! This warning can be ignored when running in bare mode.\n",
            "2024-11-19 02:27:01.760 Thread 'MainThread': missing ScriptRunContext! This warning can be ignored when running in bare mode.\n",
            "2024-11-19 02:27:01.762 Thread 'MainThread': missing ScriptRunContext! This warning can be ignored when running in bare mode.\n",
            "2024-11-19 02:27:01.765 Thread 'MainThread': missing ScriptRunContext! This warning can be ignored when running in bare mode.\n",
            "2024-11-19 02:27:01.767 Thread 'MainThread': missing ScriptRunContext! This warning can be ignored when running in bare mode.\n",
            "2024-11-19 02:27:01.768 Thread 'MainThread': missing ScriptRunContext! This warning can be ignored when running in bare mode.\n",
            "2024-11-19 02:27:01.770 Thread 'MainThread': missing ScriptRunContext! This warning can be ignored when running in bare mode.\n",
            "2024-11-19 02:27:01.771 Thread 'MainThread': missing ScriptRunContext! This warning can be ignored when running in bare mode.\n",
            "2024-11-19 02:27:01.773 Thread 'MainThread': missing ScriptRunContext! This warning can be ignored when running in bare mode.\n",
            "2024-11-19 02:27:01.774 Thread 'MainThread': missing ScriptRunContext! This warning can be ignored when running in bare mode.\n"
          ]
        }
      ],
      "source": [
        "import streamlit as st\n",
        "import pandas as pd\n",
        "import plotly.express as px\n",
        "\n",
        "# Title of the app\n",
        "st.title('Interactive Data Visualization App')\n",
        "\n",
        "# File uploader for the CSV file\n",
        "uploaded_file = st.file_uploader(\"Book2.csv\", type=[\"csv\"])\n",
        "\n",
        "if uploaded_file is not None:\n",
        "    try:\n",
        "        # Load the uploaded CSV file into a DataFrame\n",
        "        df = pd.read_csv(uploaded_file)\n",
        "\n",
        "        # Display the dataset\n",
        "        st.write(\"Dataset Preview:\")\n",
        "        st.write(df)\n",
        "\n",
        "        # Let the user select columns for the chart\n",
        "        columns = df.columns.tolist()\n",
        "\n",
        "        # Dropdowns for X and Y axes selection\n",
        "        x_axis = st.selectbox('Select column for X-axis', columns)\n",
        "        y_axis = st.selectbox('Select column for Y-axis (numeric)', columns)\n",
        "\n",
        "        # Choose chart type: Line Chart, Bar Chart, or Pie Chart\n",
        "        chart_type = st.selectbox('Select chart type', ['Line Chart', 'Bar Chart', 'Pie Chart'])\n",
        "\n",
        "        # Display chart based on user selections\n",
        "        if chart_type == 'Bar Chart':\n",
        "            st.subheader(f\"Bar Chart: {y_axis} vs {x_axis}\")\n",
        "            bar_fig = px.bar(df, x=x_axis, y=y_axis, title=f\"Bar Chart: {y_axis} vs {x_axis}\")\n",
        "            st.plotly_chart(bar_fig)\n",
        "\n",
        "        elif chart_type == 'Line Chart':\n",
        "            st.subheader(f\"Line Chart: {y_axis} vs {x_axis}\")\n",
        "            line_fig = px.line(df, x=x_axis, y=y_axis, title=f\"Line Chart: {y_axis} vs {x_axis}\")\n",
        "            st.plotly_chart(line_fig)\n",
        "\n",
        "        elif chart_type == 'Pie Chart':\n",
        "            st.subheader(f\"Pie Chart for {y_axis} grouped by {x_axis}\")\n",
        "            pie_fig = px.pie(df, names=x_axis, values=y_axis, title=f\"Pie Chart: {y_axis} grouped by {x_axis}\")\n",
        "            st.plotly_chart(pie_fig)\n",
        "\n",
        "    except Exception as e:\n",
        "        st.error(f\"An error occurred while processing the file: {e}\")\n",
        "else:\n",
        "    st.write(\"Please upload a CSV file to proceed.\")"
      ]
    }
  ]
}