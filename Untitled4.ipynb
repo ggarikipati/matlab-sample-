{
  "nbformat": 4,
  "nbformat_minor": 0,
  "metadata": {
    "colab": {
      "provenance": []
    },
    "kernelspec": {
      "name": "python3",
      "display_name": "Python 3"
    },
    "language_info": {
      "name": "python"
    }
  },
  "cells": [
    {
      "cell_type": "code",
      "source": [
        "import streamlit as st\n",
        "import pandas as pd\n",
        "\n",
        "# Title of the app\n",
        "st.title('Interactive Censorship Data Visualization App')\n",
        "\n",
        "# File uploader for the CSV file\n",
        "uploaded_file = st.file_uploader(\"Eng220.csv\", type=[\"csv\"])\n",
        "\n",
        "if uploaded_file is not None:\n",
        "    # Load the uploaded CSV file into a DataFrame\n",
        "    df = pd.read_csv(uploaded_file)\n",
        "\n",
        "    # Display the dataset\n",
        "    st.write(\"Sales Data:\")\n",
        "    st.write(df)\n",
        "\n",
        "    # Let the user select columns for the chart\n",
        "    columns = df.columns.tolist()\n",
        "\n",
        "    # Dropdowns for X and Y axes selection\n",
        "    x_axis = st.selectbox('Select column for X-axis', columns)\n",
        "    y_axis = st.selectbox('Select column for Y-axis', columns)\n",
        "\n",
        "    # Choose chart type: Bar Chart or Line Chart\n",
        "    chart_type = st.selectbox('Select chart type', ['Bar Chart', 'Line Chart'])\n",
        "\n",
        "    # Display chart based on user selections\n",
        "    if chart_type == 'Bar Chart':\n",
        "        st.bar_chart(df[[x_axis, y_axis]].set_index(x_axis))\n",
        "    elif chart_type == 'Line Chart':\n",
        "        st.line_chart(df[[x_axis, y_axis]].set_index(x_axis))\n",
        "else:\n",
        "    st.write(\"Please upload a CSV file to proceed.\")\n"
      ],
      "metadata": {
        "colab": {
          "base_uri": "https://localhost:8080/"
        },
        "id": "uy-82q2Vo3zE",
        "outputId": "d46b6a1e-3458-4571-8657-737d1f62c5f2"
      },
      "execution_count": 3,
      "outputs": [
        {
          "output_type": "stream",
          "name": "stderr",
          "text": [
            "2024-10-29 19:00:47.707 WARNING streamlit.runtime.scriptrunner_utils.script_run_context: Thread 'MainThread': missing ScriptRunContext! This warning can be ignored when running in bare mode.\n",
            "2024-10-29 19:00:47.807 \n",
            "  \u001b[33m\u001b[1mWarning:\u001b[0m to view this Streamlit app on a browser, run it with the following\n",
            "  command:\n",
            "\n",
            "    streamlit run /usr/local/lib/python3.10/dist-packages/colab_kernel_launcher.py [ARGUMENTS]\n",
            "2024-10-29 19:00:47.809 Thread 'MainThread': missing ScriptRunContext! This warning can be ignored when running in bare mode.\n",
            "2024-10-29 19:00:47.813 Thread 'MainThread': missing ScriptRunContext! This warning can be ignored when running in bare mode.\n",
            "2024-10-29 19:00:47.816 Thread 'MainThread': missing ScriptRunContext! This warning can be ignored when running in bare mode.\n",
            "2024-10-29 19:00:47.819 Thread 'MainThread': missing ScriptRunContext! This warning can be ignored when running in bare mode.\n",
            "2024-10-29 19:00:47.821 Thread 'MainThread': missing ScriptRunContext! This warning can be ignored when running in bare mode.\n",
            "2024-10-29 19:00:47.822 Thread 'MainThread': missing ScriptRunContext! This warning can be ignored when running in bare mode.\n",
            "2024-10-29 19:00:47.824 Thread 'MainThread': missing ScriptRunContext! This warning can be ignored when running in bare mode.\n",
            "2024-10-29 19:00:47.826 Thread 'MainThread': missing ScriptRunContext! This warning can be ignored when running in bare mode.\n",
            "2024-10-29 19:00:47.827 Thread 'MainThread': missing ScriptRunContext! This warning can be ignored when running in bare mode.\n",
            "2024-10-29 19:00:47.829 Thread 'MainThread': missing ScriptRunContext! This warning can be ignored when running in bare mode.\n"
          ]
        }
      ]
    }
  ]
}